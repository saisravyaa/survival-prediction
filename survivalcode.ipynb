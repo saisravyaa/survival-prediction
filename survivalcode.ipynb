{
  "cells": [
    {
      "cell_type": "markdown",
      "metadata": {
        "id": "view-in-github",
        "colab_type": "text"
      },
      "source": [
        "<a href=\"https://colab.research.google.com/github/saisravyaa/survival-prediction/blob/main/survivalcode.ipynb\" target=\"_parent\"><img src=\"https://colab.research.google.com/assets/colab-badge.svg\" alt=\"Open In Colab\"/></a>"
      ]
    },
    {
      "cell_type": "code",
      "source": [
        "import tensorflow as tf"
      ],
      "metadata": {
        "id": "hZ9achbQ7eZK"
      },
      "execution_count": null,
      "outputs": []
    },
    {
      "cell_type": "code",
      "source": [
        "import pandas as pd\n",
        "import numpy as np\n",
        "from tensorflow.keras.models import Sequential\n",
        "from tensorflow.keras.layers import LSTM\n",
        "from tensorflow.keras.layers import Dropout\n",
        "from tensorflow.keras.layers import Dense\n",
        "from sklearn.model_selection import train_test_split"
      ],
      "metadata": {
        "id": "p1ubuCbF75FA"
      },
      "execution_count": null,
      "outputs": []
    },
    {
      "cell_type": "code",
      "source": [
        "dt=pd.read_csv(\"/content/proj.csv\")"
      ],
      "metadata": {
        "id": "tIBvQdCe79ZN"
      },
      "execution_count": null,
      "outputs": []
    },
    {
      "cell_type": "code",
      "source": [
        "dt.head()"
      ],
      "metadata": {
        "id": "pJKO0rvx8lzQ",
        "outputId": "0e588d83-8ea9-4a24-b986-c6c431ecf44f",
        "colab": {
          "base_uri": "https://localhost:8080/",
          "height": 299
        }
      },
      "execution_count": null,
      "outputs": [
        {
          "output_type": "execute_result",
          "data": {
            "text/plain": [
              "   id  Recipientgender  Stemcellsource   Donorage  Donorage35  IIIV  \\\n",
              "0   1                1               1  22.830137           0     1   \n",
              "1   2                1               0  23.342466           0     1   \n",
              "2   3                1               0  26.394521           0     1   \n",
              "3   4                0               0  39.684932           1     1   \n",
              "4   5                0               1  33.358904           0     0   \n",
              "\n",
              "   Gendermatch  DonorABO RecipientABO RecipientRh  ... extcGvHD CD34kgx10d6  \\\n",
              "0            0         1            1           1  ...        1        7.20   \n",
              "1            0        -1           -1           1  ...        1        4.50   \n",
              "2            0        -1           -1           1  ...        1        7.94   \n",
              "3            0         1            2           1  ...        ?        4.25   \n",
              "4            0         1            2           0  ...        1       51.85   \n",
              "\n",
              "    CD3dCD34 CD3dkgx10d8 Rbodymass  ANCrecovery  PLTrecovery  \\\n",
              "0    1.33876        5.38        35           19           51   \n",
              "1  11.078295        0.41      20.6           16           37   \n",
              "2   19.01323        0.42      23.4           23           20   \n",
              "3  29.481647        0.14        50           23           29   \n",
              "4   3.972255       13.05         9           14           14   \n",
              "\n",
              "   time_to_aGvHD_III_IV  survival_time  survival_status  \n",
              "0                    32            999                0  \n",
              "1               1000000            163                1  \n",
              "2               1000000            435                1  \n",
              "3                    19             53                1  \n",
              "4               1000000           2043                0  \n",
              "\n",
              "[5 rows x 38 columns]"
            ],
            "text/html": [
              "\n",
              "  <div id=\"df-1f2c00cc-240f-4cfd-960f-4933a6db86ec\">\n",
              "    <div class=\"colab-df-container\">\n",
              "      <div>\n",
              "<style scoped>\n",
              "    .dataframe tbody tr th:only-of-type {\n",
              "        vertical-align: middle;\n",
              "    }\n",
              "\n",
              "    .dataframe tbody tr th {\n",
              "        vertical-align: top;\n",
              "    }\n",
              "\n",
              "    .dataframe thead th {\n",
              "        text-align: right;\n",
              "    }\n",
              "</style>\n",
              "<table border=\"1\" class=\"dataframe\">\n",
              "  <thead>\n",
              "    <tr style=\"text-align: right;\">\n",
              "      <th></th>\n",
              "      <th>id</th>\n",
              "      <th>Recipientgender</th>\n",
              "      <th>Stemcellsource</th>\n",
              "      <th>Donorage</th>\n",
              "      <th>Donorage35</th>\n",
              "      <th>IIIV</th>\n",
              "      <th>Gendermatch</th>\n",
              "      <th>DonorABO</th>\n",
              "      <th>RecipientABO</th>\n",
              "      <th>RecipientRh</th>\n",
              "      <th>...</th>\n",
              "      <th>extcGvHD</th>\n",
              "      <th>CD34kgx10d6</th>\n",
              "      <th>CD3dCD34</th>\n",
              "      <th>CD3dkgx10d8</th>\n",
              "      <th>Rbodymass</th>\n",
              "      <th>ANCrecovery</th>\n",
              "      <th>PLTrecovery</th>\n",
              "      <th>time_to_aGvHD_III_IV</th>\n",
              "      <th>survival_time</th>\n",
              "      <th>survival_status</th>\n",
              "    </tr>\n",
              "  </thead>\n",
              "  <tbody>\n",
              "    <tr>\n",
              "      <th>0</th>\n",
              "      <td>1</td>\n",
              "      <td>1</td>\n",
              "      <td>1</td>\n",
              "      <td>22.830137</td>\n",
              "      <td>0</td>\n",
              "      <td>1</td>\n",
              "      <td>0</td>\n",
              "      <td>1</td>\n",
              "      <td>1</td>\n",
              "      <td>1</td>\n",
              "      <td>...</td>\n",
              "      <td>1</td>\n",
              "      <td>7.20</td>\n",
              "      <td>1.33876</td>\n",
              "      <td>5.38</td>\n",
              "      <td>35</td>\n",
              "      <td>19</td>\n",
              "      <td>51</td>\n",
              "      <td>32</td>\n",
              "      <td>999</td>\n",
              "      <td>0</td>\n",
              "    </tr>\n",
              "    <tr>\n",
              "      <th>1</th>\n",
              "      <td>2</td>\n",
              "      <td>1</td>\n",
              "      <td>0</td>\n",
              "      <td>23.342466</td>\n",
              "      <td>0</td>\n",
              "      <td>1</td>\n",
              "      <td>0</td>\n",
              "      <td>-1</td>\n",
              "      <td>-1</td>\n",
              "      <td>1</td>\n",
              "      <td>...</td>\n",
              "      <td>1</td>\n",
              "      <td>4.50</td>\n",
              "      <td>11.078295</td>\n",
              "      <td>0.41</td>\n",
              "      <td>20.6</td>\n",
              "      <td>16</td>\n",
              "      <td>37</td>\n",
              "      <td>1000000</td>\n",
              "      <td>163</td>\n",
              "      <td>1</td>\n",
              "    </tr>\n",
              "    <tr>\n",
              "      <th>2</th>\n",
              "      <td>3</td>\n",
              "      <td>1</td>\n",
              "      <td>0</td>\n",
              "      <td>26.394521</td>\n",
              "      <td>0</td>\n",
              "      <td>1</td>\n",
              "      <td>0</td>\n",
              "      <td>-1</td>\n",
              "      <td>-1</td>\n",
              "      <td>1</td>\n",
              "      <td>...</td>\n",
              "      <td>1</td>\n",
              "      <td>7.94</td>\n",
              "      <td>19.01323</td>\n",
              "      <td>0.42</td>\n",
              "      <td>23.4</td>\n",
              "      <td>23</td>\n",
              "      <td>20</td>\n",
              "      <td>1000000</td>\n",
              "      <td>435</td>\n",
              "      <td>1</td>\n",
              "    </tr>\n",
              "    <tr>\n",
              "      <th>3</th>\n",
              "      <td>4</td>\n",
              "      <td>0</td>\n",
              "      <td>0</td>\n",
              "      <td>39.684932</td>\n",
              "      <td>1</td>\n",
              "      <td>1</td>\n",
              "      <td>0</td>\n",
              "      <td>1</td>\n",
              "      <td>2</td>\n",
              "      <td>1</td>\n",
              "      <td>...</td>\n",
              "      <td>?</td>\n",
              "      <td>4.25</td>\n",
              "      <td>29.481647</td>\n",
              "      <td>0.14</td>\n",
              "      <td>50</td>\n",
              "      <td>23</td>\n",
              "      <td>29</td>\n",
              "      <td>19</td>\n",
              "      <td>53</td>\n",
              "      <td>1</td>\n",
              "    </tr>\n",
              "    <tr>\n",
              "      <th>4</th>\n",
              "      <td>5</td>\n",
              "      <td>0</td>\n",
              "      <td>1</td>\n",
              "      <td>33.358904</td>\n",
              "      <td>0</td>\n",
              "      <td>0</td>\n",
              "      <td>0</td>\n",
              "      <td>1</td>\n",
              "      <td>2</td>\n",
              "      <td>0</td>\n",
              "      <td>...</td>\n",
              "      <td>1</td>\n",
              "      <td>51.85</td>\n",
              "      <td>3.972255</td>\n",
              "      <td>13.05</td>\n",
              "      <td>9</td>\n",
              "      <td>14</td>\n",
              "      <td>14</td>\n",
              "      <td>1000000</td>\n",
              "      <td>2043</td>\n",
              "      <td>0</td>\n",
              "    </tr>\n",
              "  </tbody>\n",
              "</table>\n",
              "<p>5 rows × 38 columns</p>\n",
              "</div>\n",
              "      <button class=\"colab-df-convert\" onclick=\"convertToInteractive('df-1f2c00cc-240f-4cfd-960f-4933a6db86ec')\"\n",
              "              title=\"Convert this dataframe to an interactive table.\"\n",
              "              style=\"display:none;\">\n",
              "        \n",
              "  <svg xmlns=\"http://www.w3.org/2000/svg\" height=\"24px\"viewBox=\"0 0 24 24\"\n",
              "       width=\"24px\">\n",
              "    <path d=\"M0 0h24v24H0V0z\" fill=\"none\"/>\n",
              "    <path d=\"M18.56 5.44l.94 2.06.94-2.06 2.06-.94-2.06-.94-.94-2.06-.94 2.06-2.06.94zm-11 1L8.5 8.5l.94-2.06 2.06-.94-2.06-.94L8.5 2.5l-.94 2.06-2.06.94zm10 10l.94 2.06.94-2.06 2.06-.94-2.06-.94-.94-2.06-.94 2.06-2.06.94z\"/><path d=\"M17.41 7.96l-1.37-1.37c-.4-.4-.92-.59-1.43-.59-.52 0-1.04.2-1.43.59L10.3 9.45l-7.72 7.72c-.78.78-.78 2.05 0 2.83L4 21.41c.39.39.9.59 1.41.59.51 0 1.02-.2 1.41-.59l7.78-7.78 2.81-2.81c.8-.78.8-2.07 0-2.86zM5.41 20L4 18.59l7.72-7.72 1.47 1.35L5.41 20z\"/>\n",
              "  </svg>\n",
              "      </button>\n",
              "      \n",
              "  <style>\n",
              "    .colab-df-container {\n",
              "      display:flex;\n",
              "      flex-wrap:wrap;\n",
              "      gap: 12px;\n",
              "    }\n",
              "\n",
              "    .colab-df-convert {\n",
              "      background-color: #E8F0FE;\n",
              "      border: none;\n",
              "      border-radius: 50%;\n",
              "      cursor: pointer;\n",
              "      display: none;\n",
              "      fill: #1967D2;\n",
              "      height: 32px;\n",
              "      padding: 0 0 0 0;\n",
              "      width: 32px;\n",
              "    }\n",
              "\n",
              "    .colab-df-convert:hover {\n",
              "      background-color: #E2EBFA;\n",
              "      box-shadow: 0px 1px 2px rgba(60, 64, 67, 0.3), 0px 1px 3px 1px rgba(60, 64, 67, 0.15);\n",
              "      fill: #174EA6;\n",
              "    }\n",
              "\n",
              "    [theme=dark] .colab-df-convert {\n",
              "      background-color: #3B4455;\n",
              "      fill: #D2E3FC;\n",
              "    }\n",
              "\n",
              "    [theme=dark] .colab-df-convert:hover {\n",
              "      background-color: #434B5C;\n",
              "      box-shadow: 0px 1px 3px 1px rgba(0, 0, 0, 0.15);\n",
              "      filter: drop-shadow(0px 1px 2px rgba(0, 0, 0, 0.3));\n",
              "      fill: #FFFFFF;\n",
              "    }\n",
              "  </style>\n",
              "\n",
              "      <script>\n",
              "        const buttonEl =\n",
              "          document.querySelector('#df-1f2c00cc-240f-4cfd-960f-4933a6db86ec button.colab-df-convert');\n",
              "        buttonEl.style.display =\n",
              "          google.colab.kernel.accessAllowed ? 'block' : 'none';\n",
              "\n",
              "        async function convertToInteractive(key) {\n",
              "          const element = document.querySelector('#df-1f2c00cc-240f-4cfd-960f-4933a6db86ec');\n",
              "          const dataTable =\n",
              "            await google.colab.kernel.invokeFunction('convertToInteractive',\n",
              "                                                     [key], {});\n",
              "          if (!dataTable) return;\n",
              "\n",
              "          const docLinkHtml = 'Like what you see? Visit the ' +\n",
              "            '<a target=\"_blank\" href=https://colab.research.google.com/notebooks/data_table.ipynb>data table notebook</a>'\n",
              "            + ' to learn more about interactive tables.';\n",
              "          element.innerHTML = '';\n",
              "          dataTable['output_type'] = 'display_data';\n",
              "          await google.colab.output.renderOutput(dataTable, element);\n",
              "          const docLink = document.createElement('div');\n",
              "          docLink.innerHTML = docLinkHtml;\n",
              "          element.appendChild(docLink);\n",
              "        }\n",
              "      </script>\n",
              "    </div>\n",
              "  </div>\n",
              "  "
            ]
          },
          "metadata": {},
          "execution_count": 4
        }
      ]
    },
    {
      "cell_type": "code",
      "source": [
        "dt=dt.drop(['id'], axis=1)\n"
      ],
      "metadata": {
        "id": "aQkcm2zg8sgQ"
      },
      "execution_count": null,
      "outputs": []
    },
    {
      "cell_type": "code",
      "source": [
        "dt.shape"
      ],
      "metadata": {
        "id": "IYJJox-U8z3p",
        "outputId": "d10347a5-a9f1-4cdc-b3d8-3d8cc065d65c",
        "colab": {
          "base_uri": "https://localhost:8080/"
        }
      },
      "execution_count": null,
      "outputs": [
        {
          "output_type": "execute_result",
          "data": {
            "text/plain": [
              "(187, 37)"
            ]
          },
          "metadata": {},
          "execution_count": 7
        }
      ]
    },
    {
      "cell_type": "code",
      "source": [
        "dt.dtypes"
      ],
      "metadata": {
        "id": "zpogAc-u89k3",
        "outputId": "1e720e59-ef13-4abe-81bc-63d9c9adaac8",
        "colab": {
          "base_uri": "https://localhost:8080/"
        }
      },
      "execution_count": null,
      "outputs": [
        {
          "output_type": "execute_result",
          "data": {
            "text/plain": [
              "Recipientgender           int64\n",
              "Stemcellsource            int64\n",
              "Donorage                float64\n",
              "Donorage35                int64\n",
              "IIIV                      int64\n",
              "Gendermatch               int64\n",
              "DonorABO                  int64\n",
              "RecipientABO             object\n",
              "RecipientRh              object\n",
              "ABOmatch                 object\n",
              "CMVstatus                object\n",
              "DonorCMV                 object\n",
              "RecipientCMV             object\n",
              "Disease                  object\n",
              "Riskgroup                 int64\n",
              "Txpostrelapse             int64\n",
              "Diseasegroup              int64\n",
              "HLAmatch                  int64\n",
              "HLAmismatch               int64\n",
              "Antigen                  object\n",
              "Alel                     object\n",
              "HLAgrI                    int64\n",
              "Recipientage            float64\n",
              "Recipientage10            int64\n",
              "Recipientageint           int64\n",
              "Relapse                   int64\n",
              "aGvHDIIIIV                int64\n",
              "extcGvHD                 object\n",
              "CD34kgx10d6             float64\n",
              "CD3dCD34                 object\n",
              "CD3dkgx10d8              object\n",
              "Rbodymass                object\n",
              "ANCrecovery               int64\n",
              "PLTrecovery               int64\n",
              "time_to_aGvHD_III_IV      int64\n",
              "survival_time             int64\n",
              "survival_status           int64\n",
              "dtype: object"
            ]
          },
          "metadata": {},
          "execution_count": 8
        }
      ]
    },
    {
      "cell_type": "code",
      "source": [
        "dt.dropna()"
      ],
      "metadata": {
        "id": "1us24zyf9Bs2",
        "outputId": "4a85ca01-4d6f-4ff7-c086-d9c8ea5f004c",
        "colab": {
          "base_uri": "https://localhost:8080/",
          "height": 487
        }
      },
      "execution_count": null,
      "outputs": [
        {
          "output_type": "execute_result",
          "data": {
            "text/plain": [
              "     Recipientgender  Stemcellsource   Donorage  Donorage35  IIIV  \\\n",
              "0                  1               1  22.830137           0     1   \n",
              "1                  1               0  23.342466           0     1   \n",
              "2                  1               0  26.394521           0     1   \n",
              "3                  0               0  39.684932           1     1   \n",
              "4                  0               1  33.358904           0     0   \n",
              "..               ...             ...        ...         ...   ...   \n",
              "182                1               1  37.575342           1     1   \n",
              "183                0               1  22.895890           0     0   \n",
              "184                0               1  27.347945           0     1   \n",
              "185                1               1  27.780822           0     1   \n",
              "186                1               1  55.553425           1     1   \n",
              "\n",
              "     Gendermatch  DonorABO RecipientABO RecipientRh ABOmatch  ... extcGvHD  \\\n",
              "0              0         1            1           1        0  ...        1   \n",
              "1              0        -1           -1           1        0  ...        1   \n",
              "2              0        -1           -1           1        0  ...        1   \n",
              "3              0         1            2           1        1  ...        ?   \n",
              "4              0         1            2           0        1  ...        1   \n",
              "..           ...       ...          ...         ...      ...  ...      ...   \n",
              "182            0         1            1           0        0  ...        1   \n",
              "183            0         1            0           1        1  ...        1   \n",
              "184            0         1           -1           1        1  ...        1   \n",
              "185            0         1            0           1        1  ...        0   \n",
              "186            0         1            2           1        1  ...        1   \n",
              "\n",
              "    CD34kgx10d6   CD3dCD34 CD3dkgx10d8  Rbodymass  ANCrecovery  PLTrecovery  \\\n",
              "0          7.20    1.33876        5.38         35           19           51   \n",
              "1          4.50  11.078295        0.41       20.6           16           37   \n",
              "2          7.94   19.01323        0.42       23.4           23           20   \n",
              "3          4.25  29.481647        0.14         50           23           29   \n",
              "4         51.85   3.972255       13.05          9           14           14   \n",
              "..          ...        ...         ...        ...          ...          ...   \n",
              "182       11.08    2.52275        4.39         44           15           22   \n",
              "183        4.64   1.038858        4.47       44.5           12           30   \n",
              "184        7.73   1.635559        4.73         33           16           16   \n",
              "185       15.41    8.07777        1.91         24           13           14   \n",
              "186        9.91   0.948135       10.45         37           18           20   \n",
              "\n",
              "     time_to_aGvHD_III_IV  survival_time survival_status  \n",
              "0                      32            999               0  \n",
              "1                 1000000            163               1  \n",
              "2                 1000000            435               1  \n",
              "3                      19             53               1  \n",
              "4                 1000000           2043               0  \n",
              "..                    ...            ...             ...  \n",
              "182                    16            385               1  \n",
              "183               1000000            634               1  \n",
              "184               1000000           1895               0  \n",
              "185                    54            382               1  \n",
              "186               1000000           1109               0  \n",
              "\n",
              "[187 rows x 37 columns]"
            ],
            "text/html": [
              "\n",
              "  <div id=\"df-ad0e9579-791c-4ad9-8782-0f8effcadc90\">\n",
              "    <div class=\"colab-df-container\">\n",
              "      <div>\n",
              "<style scoped>\n",
              "    .dataframe tbody tr th:only-of-type {\n",
              "        vertical-align: middle;\n",
              "    }\n",
              "\n",
              "    .dataframe tbody tr th {\n",
              "        vertical-align: top;\n",
              "    }\n",
              "\n",
              "    .dataframe thead th {\n",
              "        text-align: right;\n",
              "    }\n",
              "</style>\n",
              "<table border=\"1\" class=\"dataframe\">\n",
              "  <thead>\n",
              "    <tr style=\"text-align: right;\">\n",
              "      <th></th>\n",
              "      <th>Recipientgender</th>\n",
              "      <th>Stemcellsource</th>\n",
              "      <th>Donorage</th>\n",
              "      <th>Donorage35</th>\n",
              "      <th>IIIV</th>\n",
              "      <th>Gendermatch</th>\n",
              "      <th>DonorABO</th>\n",
              "      <th>RecipientABO</th>\n",
              "      <th>RecipientRh</th>\n",
              "      <th>ABOmatch</th>\n",
              "      <th>...</th>\n",
              "      <th>extcGvHD</th>\n",
              "      <th>CD34kgx10d6</th>\n",
              "      <th>CD3dCD34</th>\n",
              "      <th>CD3dkgx10d8</th>\n",
              "      <th>Rbodymass</th>\n",
              "      <th>ANCrecovery</th>\n",
              "      <th>PLTrecovery</th>\n",
              "      <th>time_to_aGvHD_III_IV</th>\n",
              "      <th>survival_time</th>\n",
              "      <th>survival_status</th>\n",
              "    </tr>\n",
              "  </thead>\n",
              "  <tbody>\n",
              "    <tr>\n",
              "      <th>0</th>\n",
              "      <td>1</td>\n",
              "      <td>1</td>\n",
              "      <td>22.830137</td>\n",
              "      <td>0</td>\n",
              "      <td>1</td>\n",
              "      <td>0</td>\n",
              "      <td>1</td>\n",
              "      <td>1</td>\n",
              "      <td>1</td>\n",
              "      <td>0</td>\n",
              "      <td>...</td>\n",
              "      <td>1</td>\n",
              "      <td>7.20</td>\n",
              "      <td>1.33876</td>\n",
              "      <td>5.38</td>\n",
              "      <td>35</td>\n",
              "      <td>19</td>\n",
              "      <td>51</td>\n",
              "      <td>32</td>\n",
              "      <td>999</td>\n",
              "      <td>0</td>\n",
              "    </tr>\n",
              "    <tr>\n",
              "      <th>1</th>\n",
              "      <td>1</td>\n",
              "      <td>0</td>\n",
              "      <td>23.342466</td>\n",
              "      <td>0</td>\n",
              "      <td>1</td>\n",
              "      <td>0</td>\n",
              "      <td>-1</td>\n",
              "      <td>-1</td>\n",
              "      <td>1</td>\n",
              "      <td>0</td>\n",
              "      <td>...</td>\n",
              "      <td>1</td>\n",
              "      <td>4.50</td>\n",
              "      <td>11.078295</td>\n",
              "      <td>0.41</td>\n",
              "      <td>20.6</td>\n",
              "      <td>16</td>\n",
              "      <td>37</td>\n",
              "      <td>1000000</td>\n",
              "      <td>163</td>\n",
              "      <td>1</td>\n",
              "    </tr>\n",
              "    <tr>\n",
              "      <th>2</th>\n",
              "      <td>1</td>\n",
              "      <td>0</td>\n",
              "      <td>26.394521</td>\n",
              "      <td>0</td>\n",
              "      <td>1</td>\n",
              "      <td>0</td>\n",
              "      <td>-1</td>\n",
              "      <td>-1</td>\n",
              "      <td>1</td>\n",
              "      <td>0</td>\n",
              "      <td>...</td>\n",
              "      <td>1</td>\n",
              "      <td>7.94</td>\n",
              "      <td>19.01323</td>\n",
              "      <td>0.42</td>\n",
              "      <td>23.4</td>\n",
              "      <td>23</td>\n",
              "      <td>20</td>\n",
              "      <td>1000000</td>\n",
              "      <td>435</td>\n",
              "      <td>1</td>\n",
              "    </tr>\n",
              "    <tr>\n",
              "      <th>3</th>\n",
              "      <td>0</td>\n",
              "      <td>0</td>\n",
              "      <td>39.684932</td>\n",
              "      <td>1</td>\n",
              "      <td>1</td>\n",
              "      <td>0</td>\n",
              "      <td>1</td>\n",
              "      <td>2</td>\n",
              "      <td>1</td>\n",
              "      <td>1</td>\n",
              "      <td>...</td>\n",
              "      <td>?</td>\n",
              "      <td>4.25</td>\n",
              "      <td>29.481647</td>\n",
              "      <td>0.14</td>\n",
              "      <td>50</td>\n",
              "      <td>23</td>\n",
              "      <td>29</td>\n",
              "      <td>19</td>\n",
              "      <td>53</td>\n",
              "      <td>1</td>\n",
              "    </tr>\n",
              "    <tr>\n",
              "      <th>4</th>\n",
              "      <td>0</td>\n",
              "      <td>1</td>\n",
              "      <td>33.358904</td>\n",
              "      <td>0</td>\n",
              "      <td>0</td>\n",
              "      <td>0</td>\n",
              "      <td>1</td>\n",
              "      <td>2</td>\n",
              "      <td>0</td>\n",
              "      <td>1</td>\n",
              "      <td>...</td>\n",
              "      <td>1</td>\n",
              "      <td>51.85</td>\n",
              "      <td>3.972255</td>\n",
              "      <td>13.05</td>\n",
              "      <td>9</td>\n",
              "      <td>14</td>\n",
              "      <td>14</td>\n",
              "      <td>1000000</td>\n",
              "      <td>2043</td>\n",
              "      <td>0</td>\n",
              "    </tr>\n",
              "    <tr>\n",
              "      <th>...</th>\n",
              "      <td>...</td>\n",
              "      <td>...</td>\n",
              "      <td>...</td>\n",
              "      <td>...</td>\n",
              "      <td>...</td>\n",
              "      <td>...</td>\n",
              "      <td>...</td>\n",
              "      <td>...</td>\n",
              "      <td>...</td>\n",
              "      <td>...</td>\n",
              "      <td>...</td>\n",
              "      <td>...</td>\n",
              "      <td>...</td>\n",
              "      <td>...</td>\n",
              "      <td>...</td>\n",
              "      <td>...</td>\n",
              "      <td>...</td>\n",
              "      <td>...</td>\n",
              "      <td>...</td>\n",
              "      <td>...</td>\n",
              "      <td>...</td>\n",
              "    </tr>\n",
              "    <tr>\n",
              "      <th>182</th>\n",
              "      <td>1</td>\n",
              "      <td>1</td>\n",
              "      <td>37.575342</td>\n",
              "      <td>1</td>\n",
              "      <td>1</td>\n",
              "      <td>0</td>\n",
              "      <td>1</td>\n",
              "      <td>1</td>\n",
              "      <td>0</td>\n",
              "      <td>0</td>\n",
              "      <td>...</td>\n",
              "      <td>1</td>\n",
              "      <td>11.08</td>\n",
              "      <td>2.52275</td>\n",
              "      <td>4.39</td>\n",
              "      <td>44</td>\n",
              "      <td>15</td>\n",
              "      <td>22</td>\n",
              "      <td>16</td>\n",
              "      <td>385</td>\n",
              "      <td>1</td>\n",
              "    </tr>\n",
              "    <tr>\n",
              "      <th>183</th>\n",
              "      <td>0</td>\n",
              "      <td>1</td>\n",
              "      <td>22.895890</td>\n",
              "      <td>0</td>\n",
              "      <td>0</td>\n",
              "      <td>0</td>\n",
              "      <td>1</td>\n",
              "      <td>0</td>\n",
              "      <td>1</td>\n",
              "      <td>1</td>\n",
              "      <td>...</td>\n",
              "      <td>1</td>\n",
              "      <td>4.64</td>\n",
              "      <td>1.038858</td>\n",
              "      <td>4.47</td>\n",
              "      <td>44.5</td>\n",
              "      <td>12</td>\n",
              "      <td>30</td>\n",
              "      <td>1000000</td>\n",
              "      <td>634</td>\n",
              "      <td>1</td>\n",
              "    </tr>\n",
              "    <tr>\n",
              "      <th>184</th>\n",
              "      <td>0</td>\n",
              "      <td>1</td>\n",
              "      <td>27.347945</td>\n",
              "      <td>0</td>\n",
              "      <td>1</td>\n",
              "      <td>0</td>\n",
              "      <td>1</td>\n",
              "      <td>-1</td>\n",
              "      <td>1</td>\n",
              "      <td>1</td>\n",
              "      <td>...</td>\n",
              "      <td>1</td>\n",
              "      <td>7.73</td>\n",
              "      <td>1.635559</td>\n",
              "      <td>4.73</td>\n",
              "      <td>33</td>\n",
              "      <td>16</td>\n",
              "      <td>16</td>\n",
              "      <td>1000000</td>\n",
              "      <td>1895</td>\n",
              "      <td>0</td>\n",
              "    </tr>\n",
              "    <tr>\n",
              "      <th>185</th>\n",
              "      <td>1</td>\n",
              "      <td>1</td>\n",
              "      <td>27.780822</td>\n",
              "      <td>0</td>\n",
              "      <td>1</td>\n",
              "      <td>0</td>\n",
              "      <td>1</td>\n",
              "      <td>0</td>\n",
              "      <td>1</td>\n",
              "      <td>1</td>\n",
              "      <td>...</td>\n",
              "      <td>0</td>\n",
              "      <td>15.41</td>\n",
              "      <td>8.07777</td>\n",
              "      <td>1.91</td>\n",
              "      <td>24</td>\n",
              "      <td>13</td>\n",
              "      <td>14</td>\n",
              "      <td>54</td>\n",
              "      <td>382</td>\n",
              "      <td>1</td>\n",
              "    </tr>\n",
              "    <tr>\n",
              "      <th>186</th>\n",
              "      <td>1</td>\n",
              "      <td>1</td>\n",
              "      <td>55.553425</td>\n",
              "      <td>1</td>\n",
              "      <td>1</td>\n",
              "      <td>0</td>\n",
              "      <td>1</td>\n",
              "      <td>2</td>\n",
              "      <td>1</td>\n",
              "      <td>1</td>\n",
              "      <td>...</td>\n",
              "      <td>1</td>\n",
              "      <td>9.91</td>\n",
              "      <td>0.948135</td>\n",
              "      <td>10.45</td>\n",
              "      <td>37</td>\n",
              "      <td>18</td>\n",
              "      <td>20</td>\n",
              "      <td>1000000</td>\n",
              "      <td>1109</td>\n",
              "      <td>0</td>\n",
              "    </tr>\n",
              "  </tbody>\n",
              "</table>\n",
              "<p>187 rows × 37 columns</p>\n",
              "</div>\n",
              "      <button class=\"colab-df-convert\" onclick=\"convertToInteractive('df-ad0e9579-791c-4ad9-8782-0f8effcadc90')\"\n",
              "              title=\"Convert this dataframe to an interactive table.\"\n",
              "              style=\"display:none;\">\n",
              "        \n",
              "  <svg xmlns=\"http://www.w3.org/2000/svg\" height=\"24px\"viewBox=\"0 0 24 24\"\n",
              "       width=\"24px\">\n",
              "    <path d=\"M0 0h24v24H0V0z\" fill=\"none\"/>\n",
              "    <path d=\"M18.56 5.44l.94 2.06.94-2.06 2.06-.94-2.06-.94-.94-2.06-.94 2.06-2.06.94zm-11 1L8.5 8.5l.94-2.06 2.06-.94-2.06-.94L8.5 2.5l-.94 2.06-2.06.94zm10 10l.94 2.06.94-2.06 2.06-.94-2.06-.94-.94-2.06-.94 2.06-2.06.94z\"/><path d=\"M17.41 7.96l-1.37-1.37c-.4-.4-.92-.59-1.43-.59-.52 0-1.04.2-1.43.59L10.3 9.45l-7.72 7.72c-.78.78-.78 2.05 0 2.83L4 21.41c.39.39.9.59 1.41.59.51 0 1.02-.2 1.41-.59l7.78-7.78 2.81-2.81c.8-.78.8-2.07 0-2.86zM5.41 20L4 18.59l7.72-7.72 1.47 1.35L5.41 20z\"/>\n",
              "  </svg>\n",
              "      </button>\n",
              "      \n",
              "  <style>\n",
              "    .colab-df-container {\n",
              "      display:flex;\n",
              "      flex-wrap:wrap;\n",
              "      gap: 12px;\n",
              "    }\n",
              "\n",
              "    .colab-df-convert {\n",
              "      background-color: #E8F0FE;\n",
              "      border: none;\n",
              "      border-radius: 50%;\n",
              "      cursor: pointer;\n",
              "      display: none;\n",
              "      fill: #1967D2;\n",
              "      height: 32px;\n",
              "      padding: 0 0 0 0;\n",
              "      width: 32px;\n",
              "    }\n",
              "\n",
              "    .colab-df-convert:hover {\n",
              "      background-color: #E2EBFA;\n",
              "      box-shadow: 0px 1px 2px rgba(60, 64, 67, 0.3), 0px 1px 3px 1px rgba(60, 64, 67, 0.15);\n",
              "      fill: #174EA6;\n",
              "    }\n",
              "\n",
              "    [theme=dark] .colab-df-convert {\n",
              "      background-color: #3B4455;\n",
              "      fill: #D2E3FC;\n",
              "    }\n",
              "\n",
              "    [theme=dark] .colab-df-convert:hover {\n",
              "      background-color: #434B5C;\n",
              "      box-shadow: 0px 1px 3px 1px rgba(0, 0, 0, 0.15);\n",
              "      filter: drop-shadow(0px 1px 2px rgba(0, 0, 0, 0.3));\n",
              "      fill: #FFFFFF;\n",
              "    }\n",
              "  </style>\n",
              "\n",
              "      <script>\n",
              "        const buttonEl =\n",
              "          document.querySelector('#df-ad0e9579-791c-4ad9-8782-0f8effcadc90 button.colab-df-convert');\n",
              "        buttonEl.style.display =\n",
              "          google.colab.kernel.accessAllowed ? 'block' : 'none';\n",
              "\n",
              "        async function convertToInteractive(key) {\n",
              "          const element = document.querySelector('#df-ad0e9579-791c-4ad9-8782-0f8effcadc90');\n",
              "          const dataTable =\n",
              "            await google.colab.kernel.invokeFunction('convertToInteractive',\n",
              "                                                     [key], {});\n",
              "          if (!dataTable) return;\n",
              "\n",
              "          const docLinkHtml = 'Like what you see? Visit the ' +\n",
              "            '<a target=\"_blank\" href=https://colab.research.google.com/notebooks/data_table.ipynb>data table notebook</a>'\n",
              "            + ' to learn more about interactive tables.';\n",
              "          element.innerHTML = '';\n",
              "          dataTable['output_type'] = 'display_data';\n",
              "          await google.colab.output.renderOutput(dataTable, element);\n",
              "          const docLink = document.createElement('div');\n",
              "          docLink.innerHTML = docLinkHtml;\n",
              "          element.appendChild(docLink);\n",
              "        }\n",
              "      </script>\n",
              "    </div>\n",
              "  </div>\n",
              "  "
            ]
          },
          "metadata": {},
          "execution_count": 9
        }
      ]
    },
    {
      "cell_type": "code",
      "source": [
        "cor=abs(dt.corr(method=\"pearson\"))\n",
        "relevant_features = cor[cor<0.5]\n",
        "list4=relevant_features.keys().to_list()\n",
        "list4"
      ],
      "metadata": {
        "id": "WQonkW5x9Fw1",
        "outputId": "746de2ae-1b84-4188-9c58-e0eee5c96896",
        "colab": {
          "base_uri": "https://localhost:8080/"
        }
      },
      "execution_count": null,
      "outputs": [
        {
          "output_type": "stream",
          "name": "stderr",
          "text": [
            "<ipython-input-10-f190f6e93efb>:1: FutureWarning: The default value of numeric_only in DataFrame.corr is deprecated. In a future version, it will default to False. Select only valid columns or specify the value of numeric_only to silence this warning.\n",
            "  cor=abs(dt.corr(method=\"pearson\"))\n"
          ]
        },
        {
          "output_type": "execute_result",
          "data": {
            "text/plain": [
              "['Recipientgender',\n",
              " 'Stemcellsource',\n",
              " 'Donorage',\n",
              " 'Donorage35',\n",
              " 'IIIV',\n",
              " 'Gendermatch',\n",
              " 'DonorABO',\n",
              " 'Riskgroup',\n",
              " 'Txpostrelapse',\n",
              " 'Diseasegroup',\n",
              " 'HLAmatch',\n",
              " 'HLAmismatch',\n",
              " 'HLAgrI',\n",
              " 'Recipientage',\n",
              " 'Recipientage10',\n",
              " 'Recipientageint',\n",
              " 'Relapse',\n",
              " 'aGvHDIIIIV',\n",
              " 'CD34kgx10d6',\n",
              " 'ANCrecovery',\n",
              " 'PLTrecovery',\n",
              " 'time_to_aGvHD_III_IV',\n",
              " 'survival_time',\n",
              " 'survival_status']"
            ]
          },
          "metadata": {},
          "execution_count": 10
        }
      ]
    },
    {
      "cell_type": "code",
      "source": [
        "coloums=['Recipientgender','Stemcellsource','Donorage','Donorage35','IIIV','Gendermatch','DonorABO','Riskgroup','Txpostrelapse','Diseasegroup','HLAmatch','HLAmismatch','HLAgrI','Recipientage','Recipientage10','Recipientageint','Relapse','aGvHDIIIIV','CD34kgx10d6','ANCrecovery','PLTrecovery','time_to_aGvHD_III_IV','survival_time',]\n",
        "x=dt[coloums]\n",
        "y=dt[\"survival_status\"]"
      ],
      "metadata": {
        "id": "MyHsRkSX9JMx"
      },
      "execution_count": null,
      "outputs": []
    },
    {
      "cell_type": "code",
      "source": [
        "from sklearn.preprocessing import StandardScaler"
      ],
      "metadata": {
        "id": "unZVNwe19MWb"
      },
      "execution_count": null,
      "outputs": []
    },
    {
      "cell_type": "code",
      "source": [
        "scaler=StandardScaler()\n",
        "x=scaler.fit_transform(x)"
      ],
      "metadata": {
        "id": "qIBmpxNZ9O-v"
      },
      "execution_count": null,
      "outputs": []
    },
    {
      "cell_type": "code",
      "source": [
        "x"
      ],
      "metadata": {
        "id": "sMjV4APo9Q-r",
        "outputId": "1db4e476-58d1-41de-b646-bcb150ca49ab",
        "colab": {
          "base_uri": "https://localhost:8080/"
        }
      },
      "execution_count": null,
      "outputs": [
        {
          "output_type": "execute_result",
          "data": {
            "text/plain": [
              "array([[ 0.81831709,  0.53819622, -1.28998124, ..., -0.31616067,\n",
              "        -1.8580561 ,  0.07111487],\n",
              "       [ 0.81831709, -1.85805838, -1.22787834, ..., -0.31620937,\n",
              "         0.53819622, -0.91553139],\n",
              "       [ 0.81831709, -1.85805838, -0.85791788, ..., -0.3162685 ,\n",
              "         0.53819622, -0.5945173 ],\n",
              "       ...,\n",
              "       [-1.22202019,  0.53819622, -0.74234683, ..., -0.31628242,\n",
              "         0.53819622,  1.12857307],\n",
              "       [ 0.81831709,  0.53819622, -0.68987485, ..., -0.31628938,\n",
              "        -1.85800338, -0.65706784],\n",
              "       [ 0.81831709,  0.53819622,  2.67663232, ..., -0.3162685 ,\n",
              "         0.53819622,  0.20093675]])"
            ]
          },
          "metadata": {},
          "execution_count": 14
        }
      ]
    },
    {
      "cell_type": "code",
      "source": [
        "df = pd.DataFrame(x)\n",
        "df.to_csv(\"processed_data.csv\")"
      ],
      "metadata": {
        "id": "YulAC8hg9T-Q"
      },
      "execution_count": null,
      "outputs": []
    },
    {
      "cell_type": "code",
      "source": [
        "y.value_counts()"
      ],
      "metadata": {
        "id": "ahlqd_1y9XZ5",
        "outputId": "88cf0bb2-7071-42f0-f449-be8274c7db33",
        "colab": {
          "base_uri": "https://localhost:8080/"
        }
      },
      "execution_count": null,
      "outputs": [
        {
          "output_type": "execute_result",
          "data": {
            "text/plain": [
              "0    102\n",
              "1     85\n",
              "Name: survival_status, dtype: int64"
            ]
          },
          "metadata": {},
          "execution_count": 16
        }
      ]
    },
    {
      "cell_type": "code",
      "source": [
        "from imblearn.over_sampling import SMOTE\n",
        "sm = SMOTE()\n",
        "x,y=sm.fit_resample(x, y)\n",
        "y.value_counts()"
      ],
      "metadata": {
        "id": "cyF0ki9_9bAX",
        "outputId": "b13e7f58-7443-4c6a-a0c9-559aaf14c2a5",
        "colab": {
          "base_uri": "https://localhost:8080/"
        }
      },
      "execution_count": null,
      "outputs": [
        {
          "output_type": "execute_result",
          "data": {
            "text/plain": [
              "0    102\n",
              "1    102\n",
              "Name: survival_status, dtype: int64"
            ]
          },
          "metadata": {},
          "execution_count": 17
        }
      ]
    },
    {
      "cell_type": "code",
      "source": [
        "train_X, val_X, train_y, val_y = train_test_split(x, y, random_state=1,train_size=0.8)"
      ],
      "metadata": {
        "id": "BqUsVndZ9gFj"
      },
      "execution_count": null,
      "outputs": []
    },
    {
      "cell_type": "code",
      "source": [
        "rnn = Sequential()"
      ],
      "metadata": {
        "id": "seW0Am239iqf"
      },
      "execution_count": null,
      "outputs": []
    },
    {
      "cell_type": "code",
      "source": [
        "rnn.add(LSTM(units = 45, return_sequences = True, input_shape = (train_X.shape[1], 1)))"
      ],
      "metadata": {
        "id": "bGUyUks89i9i"
      },
      "execution_count": null,
      "outputs": []
    },
    {
      "cell_type": "code",
      "source": [
        "rnn.add(Dropout(0.2))"
      ],
      "metadata": {
        "id": "H6ppowzz9sok"
      },
      "execution_count": null,
      "outputs": []
    },
    {
      "cell_type": "code",
      "source": [
        "rnn.add(LSTM(units = 45, return_sequences = True))\n",
        "\n",
        "rnn.add(Dropout(0.2))\n",
        "\n",
        "rnn.add(LSTM(units = 45, return_sequences = True))\n",
        "\n",
        "rnn.add(Dropout(0.2))\n",
        "\n",
        "rnn.add(LSTM(units = 45))\n",
        "\n",
        "rnn.add(Dropout(0.2))"
      ],
      "metadata": {
        "id": "cHZrxHQX9vtD"
      },
      "execution_count": null,
      "outputs": []
    },
    {
      "cell_type": "code",
      "source": [
        "rnn.add(Dense(units = 1))"
      ],
      "metadata": {
        "id": "B2kaPAQy90bS"
      },
      "execution_count": null,
      "outputs": []
    },
    {
      "cell_type": "code",
      "source": [
        "rnn.compile(optimizer = 'adam', loss = 'mean_squared_error')"
      ],
      "metadata": {
        "id": "6BER3_Ir93Hf"
      },
      "execution_count": null,
      "outputs": []
    },
    {
      "cell_type": "code",
      "source": [
        "rnn.fit(train_X,train_y, epochs = 100, batch_size = 32)"
      ],
      "metadata": {
        "id": "31jCV2Sm95_J",
        "outputId": "4569ae68-0bf7-452e-c4a6-054a7d342e01",
        "colab": {
          "base_uri": "https://localhost:8080/"
        }
      },
      "execution_count": null,
      "outputs": [
        {
          "output_type": "stream",
          "name": "stdout",
          "text": [
            "Epoch 1/100\n",
            "6/6 [==============================] - 10s 55ms/step - loss: 0.4401\n",
            "Epoch 2/100\n",
            "6/6 [==============================] - 0s 54ms/step - loss: 0.2949\n",
            "Epoch 3/100\n",
            "6/6 [==============================] - 0s 57ms/step - loss: 0.2439\n",
            "Epoch 4/100\n",
            "6/6 [==============================] - 0s 56ms/step - loss: 0.2672\n",
            "Epoch 5/100\n",
            "6/6 [==============================] - 0s 54ms/step - loss: 0.2679\n",
            "Epoch 6/100\n",
            "6/6 [==============================] - 0s 55ms/step - loss: 0.2514\n",
            "Epoch 7/100\n",
            "6/6 [==============================] - 0s 56ms/step - loss: 0.2471\n",
            "Epoch 8/100\n",
            "6/6 [==============================] - 0s 55ms/step - loss: 0.2470\n",
            "Epoch 9/100\n",
            "6/6 [==============================] - 0s 56ms/step - loss: 0.2452\n",
            "Epoch 10/100\n",
            "6/6 [==============================] - 0s 53ms/step - loss: 0.2464\n",
            "Epoch 11/100\n",
            "6/6 [==============================] - 0s 56ms/step - loss: 0.2439\n",
            "Epoch 12/100\n",
            "6/6 [==============================] - 0s 55ms/step - loss: 0.2533\n",
            "Epoch 13/100\n",
            "6/6 [==============================] - 0s 56ms/step - loss: 0.2444\n",
            "Epoch 14/100\n",
            "6/6 [==============================] - 0s 53ms/step - loss: 0.2439\n",
            "Epoch 15/100\n",
            "6/6 [==============================] - 0s 54ms/step - loss: 0.2478\n",
            "Epoch 16/100\n",
            "6/6 [==============================] - 0s 55ms/step - loss: 0.2389\n",
            "Epoch 17/100\n",
            "6/6 [==============================] - 0s 59ms/step - loss: 0.2337\n",
            "Epoch 18/100\n",
            "6/6 [==============================] - 0s 57ms/step - loss: 0.2436\n",
            "Epoch 19/100\n",
            "6/6 [==============================] - 0s 55ms/step - loss: 0.2442\n",
            "Epoch 20/100\n",
            "6/6 [==============================] - 0s 59ms/step - loss: 0.2390\n",
            "Epoch 21/100\n",
            "6/6 [==============================] - 0s 83ms/step - loss: 0.2420\n",
            "Epoch 22/100\n",
            "6/6 [==============================] - 1s 84ms/step - loss: 0.2379\n",
            "Epoch 23/100\n",
            "6/6 [==============================] - 1s 88ms/step - loss: 0.2430\n",
            "Epoch 24/100\n",
            "6/6 [==============================] - 1s 85ms/step - loss: 0.2449\n",
            "Epoch 25/100\n",
            "6/6 [==============================] - 0s 80ms/step - loss: 0.2427\n",
            "Epoch 26/100\n",
            "6/6 [==============================] - 1s 86ms/step - loss: 0.2427\n",
            "Epoch 27/100\n",
            "6/6 [==============================] - 1s 84ms/step - loss: 0.2332\n",
            "Epoch 28/100\n",
            "6/6 [==============================] - 0s 54ms/step - loss: 0.2454\n",
            "Epoch 29/100\n",
            "6/6 [==============================] - 0s 55ms/step - loss: 0.2357\n",
            "Epoch 30/100\n",
            "6/6 [==============================] - 0s 55ms/step - loss: 0.2430\n",
            "Epoch 31/100\n",
            "6/6 [==============================] - 0s 57ms/step - loss: 0.2427\n",
            "Epoch 32/100\n",
            "6/6 [==============================] - 0s 58ms/step - loss: 0.2492\n",
            "Epoch 33/100\n",
            "6/6 [==============================] - 0s 56ms/step - loss: 0.2474\n",
            "Epoch 34/100\n",
            "6/6 [==============================] - 0s 56ms/step - loss: 0.2619\n",
            "Epoch 35/100\n",
            "6/6 [==============================] - 0s 57ms/step - loss: 0.2550\n",
            "Epoch 36/100\n",
            "6/6 [==============================] - 0s 57ms/step - loss: 0.2302\n",
            "Epoch 37/100\n",
            "6/6 [==============================] - 0s 57ms/step - loss: 0.2394\n",
            "Epoch 38/100\n",
            "6/6 [==============================] - 0s 56ms/step - loss: 0.2323\n",
            "Epoch 39/100\n",
            "6/6 [==============================] - 0s 54ms/step - loss: 0.2415\n",
            "Epoch 40/100\n",
            "6/6 [==============================] - 0s 55ms/step - loss: 0.2390\n",
            "Epoch 41/100\n",
            "6/6 [==============================] - 0s 59ms/step - loss: 0.2410\n",
            "Epoch 42/100\n",
            "6/6 [==============================] - 0s 55ms/step - loss: 0.2354\n",
            "Epoch 43/100\n",
            "6/6 [==============================] - 0s 53ms/step - loss: 0.2339\n",
            "Epoch 44/100\n",
            "6/6 [==============================] - 0s 54ms/step - loss: 0.2473\n",
            "Epoch 45/100\n",
            "6/6 [==============================] - 0s 61ms/step - loss: 0.2316\n",
            "Epoch 46/100\n",
            "6/6 [==============================] - 0s 53ms/step - loss: 0.2350\n",
            "Epoch 47/100\n",
            "6/6 [==============================] - 0s 57ms/step - loss: 0.2422\n",
            "Epoch 48/100\n",
            "6/6 [==============================] - 0s 55ms/step - loss: 0.2295\n",
            "Epoch 49/100\n",
            "6/6 [==============================] - 0s 56ms/step - loss: 0.2434\n",
            "Epoch 50/100\n",
            "6/6 [==============================] - 0s 57ms/step - loss: 0.2368\n",
            "Epoch 51/100\n",
            "6/6 [==============================] - 0s 58ms/step - loss: 0.2394\n",
            "Epoch 52/100\n",
            "6/6 [==============================] - 0s 54ms/step - loss: 0.2316\n",
            "Epoch 53/100\n",
            "6/6 [==============================] - 0s 58ms/step - loss: 0.2394\n",
            "Epoch 54/100\n",
            "6/6 [==============================] - 0s 54ms/step - loss: 0.2404\n",
            "Epoch 55/100\n",
            "6/6 [==============================] - 0s 54ms/step - loss: 0.2386\n",
            "Epoch 56/100\n",
            "6/6 [==============================] - 0s 64ms/step - loss: 0.2414\n",
            "Epoch 57/100\n",
            "6/6 [==============================] - 1s 85ms/step - loss: 0.2396\n",
            "Epoch 58/100\n",
            "6/6 [==============================] - 1s 83ms/step - loss: 0.2423\n",
            "Epoch 59/100\n",
            "6/6 [==============================] - 1s 86ms/step - loss: 0.2321\n",
            "Epoch 60/100\n",
            "6/6 [==============================] - 1s 86ms/step - loss: 0.2382\n",
            "Epoch 61/100\n",
            "6/6 [==============================] - 1s 86ms/step - loss: 0.2332\n",
            "Epoch 62/100\n",
            "6/6 [==============================] - 1s 94ms/step - loss: 0.2332\n",
            "Epoch 63/100\n",
            "6/6 [==============================] - 0s 59ms/step - loss: 0.2332\n",
            "Epoch 64/100\n",
            "6/6 [==============================] - 0s 56ms/step - loss: 0.2352\n",
            "Epoch 65/100\n",
            "6/6 [==============================] - 0s 55ms/step - loss: 0.2298\n",
            "Epoch 66/100\n",
            "6/6 [==============================] - 0s 56ms/step - loss: 0.2278\n",
            "Epoch 67/100\n",
            "6/6 [==============================] - 0s 57ms/step - loss: 0.2312\n",
            "Epoch 68/100\n",
            "6/6 [==============================] - 0s 54ms/step - loss: 0.2280\n",
            "Epoch 69/100\n",
            "6/6 [==============================] - 0s 55ms/step - loss: 0.2315\n",
            "Epoch 70/100\n",
            "6/6 [==============================] - 0s 57ms/step - loss: 0.2326\n",
            "Epoch 71/100\n",
            "6/6 [==============================] - 0s 54ms/step - loss: 0.2285\n",
            "Epoch 72/100\n",
            "6/6 [==============================] - 0s 59ms/step - loss: 0.2255\n",
            "Epoch 73/100\n",
            "6/6 [==============================] - 0s 56ms/step - loss: 0.2274\n",
            "Epoch 74/100\n",
            "6/6 [==============================] - 0s 57ms/step - loss: 0.2231\n",
            "Epoch 75/100\n",
            "6/6 [==============================] - 0s 56ms/step - loss: 0.2290\n",
            "Epoch 76/100\n",
            "6/6 [==============================] - 0s 55ms/step - loss: 0.2286\n",
            "Epoch 77/100\n",
            "6/6 [==============================] - 0s 54ms/step - loss: 0.2314\n",
            "Epoch 78/100\n",
            "6/6 [==============================] - 0s 58ms/step - loss: 0.2310\n",
            "Epoch 79/100\n",
            "6/6 [==============================] - 0s 59ms/step - loss: 0.2264\n",
            "Epoch 80/100\n",
            "6/6 [==============================] - 0s 56ms/step - loss: 0.2278\n",
            "Epoch 81/100\n",
            "6/6 [==============================] - 0s 53ms/step - loss: 0.2277\n",
            "Epoch 82/100\n",
            "6/6 [==============================] - 0s 57ms/step - loss: 0.2242\n",
            "Epoch 83/100\n",
            "6/6 [==============================] - 0s 57ms/step - loss: 0.2257\n",
            "Epoch 84/100\n",
            "6/6 [==============================] - 0s 53ms/step - loss: 0.2220\n",
            "Epoch 85/100\n",
            "6/6 [==============================] - 0s 57ms/step - loss: 0.2097\n",
            "Epoch 86/100\n",
            "6/6 [==============================] - 0s 57ms/step - loss: 0.2267\n",
            "Epoch 87/100\n",
            "6/6 [==============================] - 0s 54ms/step - loss: 0.2153\n",
            "Epoch 88/100\n",
            "6/6 [==============================] - 0s 59ms/step - loss: 0.2101\n",
            "Epoch 89/100\n",
            "6/6 [==============================] - 0s 54ms/step - loss: 0.2128\n",
            "Epoch 90/100\n",
            "6/6 [==============================] - 0s 54ms/step - loss: 0.2079\n",
            "Epoch 91/100\n",
            "6/6 [==============================] - 0s 56ms/step - loss: 0.2068\n",
            "Epoch 92/100\n",
            "6/6 [==============================] - 0s 84ms/step - loss: 0.1998\n",
            "Epoch 93/100\n",
            "6/6 [==============================] - 1s 86ms/step - loss: 0.2031\n",
            "Epoch 94/100\n",
            "6/6 [==============================] - 1s 86ms/step - loss: 0.1993\n",
            "Epoch 95/100\n",
            "6/6 [==============================] - 1s 88ms/step - loss: 0.1980\n",
            "Epoch 96/100\n",
            "6/6 [==============================] - 1s 87ms/step - loss: 0.2002\n",
            "Epoch 97/100\n",
            "6/6 [==============================] - 1s 88ms/step - loss: 0.1902\n",
            "Epoch 98/100\n",
            "6/6 [==============================] - 0s 54ms/step - loss: 0.1868\n",
            "Epoch 99/100\n",
            "6/6 [==============================] - 0s 56ms/step - loss: 0.1942\n",
            "Epoch 100/100\n",
            "6/6 [==============================] - 0s 59ms/step - loss: 0.1895\n"
          ]
        },
        {
          "output_type": "execute_result",
          "data": {
            "text/plain": [
              "<keras.callbacks.History at 0x7f6714e59e20>"
            ]
          },
          "metadata": {},
          "execution_count": 25
        }
      ]
    },
    {
      "cell_type": "code",
      "source": [
        "predictions = rnn.predict(val_X)"
      ],
      "metadata": {
        "id": "PWTHnk7X-JHz",
        "outputId": "c2791d91-8a03-4150-bf94-3a48663ddd33",
        "colab": {
          "base_uri": "https://localhost:8080/"
        }
      },
      "execution_count": null,
      "outputs": [
        {
          "output_type": "stream",
          "name": "stdout",
          "text": [
            "2/2 [==============================] - 2s 17ms/step\n"
          ]
        }
      ]
    },
    {
      "cell_type": "code",
      "source": [
        "from sklearn.metrics import mean_squared_error as MSE"
      ],
      "metadata": {
        "id": "PRW-3jN4-MSU"
      },
      "execution_count": null,
      "outputs": []
    },
    {
      "cell_type": "code",
      "source": [
        "mse_rnn = MSE(val_y,predictions)"
      ],
      "metadata": {
        "id": "asbH-ZUg-PDR"
      },
      "execution_count": null,
      "outputs": []
    },
    {
      "cell_type": "code",
      "source": [
        "mse_rnn"
      ],
      "metadata": {
        "id": "HMvaOIy8-RMT",
        "outputId": "6a92c1c5-9ebf-4dc9-85bc-e31b82055b0e",
        "colab": {
          "base_uri": "https://localhost:8080/"
        }
      },
      "execution_count": null,
      "outputs": [
        {
          "output_type": "execute_result",
          "data": {
            "text/plain": [
              "0.18306337201282133"
            ]
          },
          "metadata": {},
          "execution_count": 29
        }
      ]
    },
    {
      "cell_type": "code",
      "source": [
        "import sklearn.metrics as metrics\n",
        "from sklearn.metrics import classification_report"
      ],
      "metadata": {
        "id": "8MOCfT92-i1n"
      },
      "execution_count": null,
      "outputs": []
    },
    {
      "cell_type": "code",
      "source": [
        "print('\\nRNN')\n",
        "print('Accuracy Score:',metrics.accuracy_score(val_y,predictions.round())*100,'%',sep='')\n",
        "print('Confusion Matrix:',metrics.confusion_matrix(val_y,predictions.round()),sep='\\n')\n",
        "print(classification_report(val_y,predictions.round()))"
      ],
      "metadata": {
        "id": "TP3LDXBK-mxo",
        "outputId": "cdbb37e6-d33f-46df-dd21-a73a9a64f1a0",
        "colab": {
          "base_uri": "https://localhost:8080/"
        }
      },
      "execution_count": null,
      "outputs": [
        {
          "output_type": "stream",
          "name": "stdout",
          "text": [
            "\n",
            "RNN\n",
            "Accuracy Score:78.04878048780488%\n",
            "Confusion Matrix:\n",
            "[[14  6]\n",
            " [ 3 18]]\n",
            "              precision    recall  f1-score   support\n",
            "\n",
            "           0       0.82      0.70      0.76        20\n",
            "           1       0.75      0.86      0.80        21\n",
            "\n",
            "    accuracy                           0.78        41\n",
            "   macro avg       0.79      0.78      0.78        41\n",
            "weighted avg       0.79      0.78      0.78        41\n",
            "\n"
          ]
        }
      ]
    },
    {
      "cell_type": "code",
      "source": [
        "pip install pyGRNN --ignore-installed"
      ],
      "metadata": {
        "id": "Ex3a_c0R-rCq",
        "outputId": "975f549c-5328-431b-ca52-6439338bf34f",
        "colab": {
          "base_uri": "https://localhost:8080/"
        }
      },
      "execution_count": null,
      "outputs": [
        {
          "output_type": "stream",
          "name": "stdout",
          "text": [
            "Looking in indexes: https://pypi.org/simple, https://us-python.pkg.dev/colab-wheels/public/simple/\n",
            "Collecting pyGRNN\n",
            "  Downloading pyGRNN-0.1.2-py3-none-any.whl (12 kB)\n",
            "Collecting seaborn\n",
            "  Downloading seaborn-0.12.2-py3-none-any.whl (293 kB)\n",
            "\u001b[2K     \u001b[90m━━━━━━━━━━━━━━━━━━━━━━━━━━━━━━━━━━━━━━━\u001b[0m \u001b[32m293.3/293.3 kB\u001b[0m \u001b[31m5.6 MB/s\u001b[0m eta \u001b[36m0:00:00\u001b[0m\n",
            "\u001b[?25hCollecting scikit-learn\n",
            "  Downloading scikit_learn-1.2.2-cp39-cp39-manylinux_2_17_x86_64.manylinux2014_x86_64.whl (9.6 MB)\n",
            "\u001b[2K     \u001b[90m━━━━━━━━━━━━━━━━━━━━━━━━━━━━━━━━━━━━━━━━\u001b[0m \u001b[32m9.6/9.6 MB\u001b[0m \u001b[31m52.3 MB/s\u001b[0m eta \u001b[36m0:00:00\u001b[0m\n",
            "\u001b[?25hCollecting numpy\n",
            "  Downloading numpy-1.24.2-cp39-cp39-manylinux_2_17_x86_64.manylinux2014_x86_64.whl (17.3 MB)\n",
            "\u001b[2K     \u001b[90m━━━━━━━━━━━━━━━━━━━━━━━━━━━━━━━━━━━━━━━━\u001b[0m \u001b[32m17.3/17.3 MB\u001b[0m \u001b[31m42.0 MB/s\u001b[0m eta \u001b[36m0:00:00\u001b[0m\n",
            "\u001b[?25hCollecting scipy\n",
            "  Downloading scipy-1.10.1-cp39-cp39-manylinux_2_17_x86_64.manylinux2014_x86_64.whl (34.5 MB)\n",
            "\u001b[2K     \u001b[90m━━━━━━━━━━━━━━━━━━━━━━━━━━━━━━━━━━━━━━━━\u001b[0m \u001b[32m34.5/34.5 MB\u001b[0m \u001b[31m12.0 MB/s\u001b[0m eta \u001b[36m0:00:00\u001b[0m\n",
            "\u001b[?25hCollecting pandas\n",
            "  Downloading pandas-2.0.0-cp39-cp39-manylinux_2_17_x86_64.manylinux2014_x86_64.whl (12.4 MB)\n",
            "\u001b[2K     \u001b[90m━━━━━━━━━━━━━━━━━━━━━━━━━━━━━━━━━━━━━━━━\u001b[0m \u001b[32m12.4/12.4 MB\u001b[0m \u001b[31m49.3 MB/s\u001b[0m eta \u001b[36m0:00:00\u001b[0m\n",
            "\u001b[?25hCollecting matplotlib\n",
            "  Downloading matplotlib-3.7.1-cp39-cp39-manylinux_2_17_x86_64.manylinux2014_x86_64.whl (11.6 MB)\n",
            "\u001b[2K     \u001b[90m━━━━━━━━━━━━━━━━━━━━━━━━━━━━━━━━━━━━━━━━\u001b[0m \u001b[32m11.6/11.6 MB\u001b[0m \u001b[31m53.0 MB/s\u001b[0m eta \u001b[36m0:00:00\u001b[0m\n",
            "\u001b[?25hCollecting pyparsing>=2.3.1\n",
            "  Downloading pyparsing-3.0.9-py3-none-any.whl (98 kB)\n",
            "\u001b[2K     \u001b[90m━━━━━━━━━━━━━━━━━━━━━━━━━━━━━━━━━━━━━━━━\u001b[0m \u001b[32m98.3/98.3 kB\u001b[0m \u001b[31m9.2 MB/s\u001b[0m eta \u001b[36m0:00:00\u001b[0m\n",
            "\u001b[?25hCollecting kiwisolver>=1.0.1\n",
            "  Downloading kiwisolver-1.4.4-cp39-cp39-manylinux_2_12_x86_64.manylinux2010_x86_64.whl (1.6 MB)\n",
            "\u001b[2K     \u001b[90m━━━━━━━━━━━━━━━━━━━━━━━━━━━━━━━━━━━━━━━━\u001b[0m \u001b[32m1.6/1.6 MB\u001b[0m \u001b[31m56.4 MB/s\u001b[0m eta \u001b[36m0:00:00\u001b[0m\n",
            "\u001b[?25hCollecting fonttools>=4.22.0\n",
            "  Downloading fonttools-4.39.3-py3-none-any.whl (1.0 MB)\n",
            "\u001b[2K     \u001b[90m━━━━━━━━━━━━━━━━━━━━━━━━━━━━━━━━━━━━━━━━\u001b[0m \u001b[32m1.0/1.0 MB\u001b[0m \u001b[31m52.4 MB/s\u001b[0m eta \u001b[36m0:00:00\u001b[0m\n",
            "\u001b[?25hCollecting pillow>=6.2.0\n",
            "  Downloading Pillow-9.5.0-cp39-cp39-manylinux_2_28_x86_64.whl (3.4 MB)\n",
            "\u001b[2K     \u001b[90m━━━━━━━━━━━━━━━━━━━━━━━━━━━━━━━━━━━━━━━━\u001b[0m \u001b[32m3.4/3.4 MB\u001b[0m \u001b[31m83.3 MB/s\u001b[0m eta \u001b[36m0:00:00\u001b[0m\n",
            "\u001b[?25hCollecting contourpy>=1.0.1\n",
            "  Downloading contourpy-1.0.7-cp39-cp39-manylinux_2_17_x86_64.manylinux2014_x86_64.whl (299 kB)\n",
            "\u001b[2K     \u001b[90m━━━━━━━━━━━━━━━━━━━━━━━━━━━━━━━━━━━━━━\u001b[0m \u001b[32m299.7/299.7 kB\u001b[0m \u001b[31m20.7 MB/s\u001b[0m eta \u001b[36m0:00:00\u001b[0m\n",
            "\u001b[?25hCollecting packaging>=20.0\n",
            "  Downloading packaging-23.1-py3-none-any.whl (48 kB)\n",
            "\u001b[2K     \u001b[90m━━━━━━━━━━━━━━━━━━━━━━━━━━━━━━━━━━━━━━━━\u001b[0m \u001b[32m48.9/48.9 kB\u001b[0m \u001b[31m5.0 MB/s\u001b[0m eta \u001b[36m0:00:00\u001b[0m\n",
            "\u001b[?25hCollecting python-dateutil>=2.7\n",
            "  Downloading python_dateutil-2.8.2-py2.py3-none-any.whl (247 kB)\n",
            "\u001b[2K     \u001b[90m━━━━━━━━━━━━━━━━━━━━━━━━━━━━━━━━━━━━━━\u001b[0m \u001b[32m247.7/247.7 kB\u001b[0m \u001b[31m20.5 MB/s\u001b[0m eta \u001b[36m0:00:00\u001b[0m\n",
            "\u001b[?25hCollecting importlib-resources>=3.2.0\n",
            "  Downloading importlib_resources-5.12.0-py3-none-any.whl (36 kB)\n",
            "Collecting cycler>=0.10\n",
            "  Downloading cycler-0.11.0-py3-none-any.whl (6.4 kB)\n",
            "Collecting pytz>=2020.1\n",
            "  Downloading pytz-2023.3-py2.py3-none-any.whl (502 kB)\n",
            "\u001b[2K     \u001b[90m━━━━━━━━━━━━━━━━━━━━━━━━━━━━━━━━━━━━━━\u001b[0m \u001b[32m502.3/502.3 kB\u001b[0m \u001b[31m30.6 MB/s\u001b[0m eta \u001b[36m0:00:00\u001b[0m\n",
            "\u001b[?25hCollecting tzdata>=2022.1\n",
            "  Downloading tzdata-2023.3-py2.py3-none-any.whl (341 kB)\n",
            "\u001b[2K     \u001b[90m━━━━━━━━━━━━━━━━━━━━━━━━━━━━━━━━━━━━━━\u001b[0m \u001b[32m341.8/341.8 kB\u001b[0m \u001b[31m27.9 MB/s\u001b[0m eta \u001b[36m0:00:00\u001b[0m\n",
            "\u001b[?25hCollecting threadpoolctl>=2.0.0\n",
            "  Downloading threadpoolctl-3.1.0-py3-none-any.whl (14 kB)\n",
            "Collecting joblib>=1.1.1\n",
            "  Downloading joblib-1.2.0-py3-none-any.whl (297 kB)\n",
            "\u001b[2K     \u001b[90m━━━━━━━━━━━━━━━━━━━━━━━━━━━━━━━━━━━━━━\u001b[0m \u001b[32m298.0/298.0 kB\u001b[0m \u001b[31m22.6 MB/s\u001b[0m eta \u001b[36m0:00:00\u001b[0m\n",
            "\u001b[?25hCollecting zipp>=3.1.0\n",
            "  Downloading zipp-3.15.0-py3-none-any.whl (6.8 kB)\n",
            "Collecting six>=1.5\n",
            "  Downloading six-1.16.0-py2.py3-none-any.whl (11 kB)\n",
            "Installing collected packages: pytz, zipp, tzdata, threadpoolctl, six, pyparsing, pillow, packaging, numpy, kiwisolver, joblib, fonttools, cycler, scipy, python-dateutil, importlib-resources, contourpy, scikit-learn, pandas, matplotlib, seaborn, pyGRNN\n",
            "\u001b[31mERROR: pip's dependency resolver does not currently take into account all the packages that are installed. This behaviour is the source of the following dependency conflicts.\n",
            "tensorflow 2.12.0 requires numpy<1.24,>=1.22, but you have numpy 1.24.2 which is incompatible.\n",
            "numba 0.56.4 requires numpy<1.24,>=1.18, but you have numpy 1.24.2 which is incompatible.\n",
            "google-colab 1.0.0 requires pandas~=1.5.3, but you have pandas 2.0.0 which is incompatible.\u001b[0m\u001b[31m\n",
            "\u001b[0mSuccessfully installed contourpy-1.0.7 cycler-0.11.0 fonttools-4.39.3 importlib-resources-5.12.0 joblib-1.2.0 kiwisolver-1.4.4 matplotlib-3.7.1 numpy-1.24.2 packaging-23.1 pandas-2.0.0 pillow-9.5.0 pyGRNN-0.1.2 pyparsing-3.0.9 python-dateutil-2.8.2 pytz-2023.3 scikit-learn-1.2.2 scipy-1.10.1 seaborn-0.12.2 six-1.16.0 threadpoolctl-3.1.0 tzdata-2023.3 zipp-3.15.0\n"
          ]
        }
      ]
    },
    {
      "cell_type": "code",
      "source": [
        "from pyGRNN import GRNN"
      ],
      "metadata": {
        "id": "jjSLto9I-6PF"
      },
      "execution_count": null,
      "outputs": []
    },
    {
      "cell_type": "code",
      "source": [
        "AGRNN = GRNN(calibration = 'gradient_search')"
      ],
      "metadata": {
        "id": "VqgW8NMp--G-"
      },
      "execution_count": null,
      "outputs": []
    },
    {
      "cell_type": "code",
      "source": [
        "AGRNN.fit(train_X,train_y.ravel())"
      ],
      "metadata": {
        "id": "HGmn_zAe_AhZ",
        "outputId": "cf324920-2f7e-4e8b-bb14-db7ff7d93d2b",
        "colab": {
          "base_uri": "https://localhost:8080/",
          "height": 230
        }
      },
      "execution_count": null,
      "outputs": [
        {
          "output_type": "execute_result",
          "data": {
            "text/plain": [
              "GRNN(bnds=((0, None), (0, None), (0, None), (0, None), (0, None), (0, None),\n",
              "           (0, None), (0, None), (0, None), (0, None), (0, None), (0, None),\n",
              "           (0, None), (0, None), (0, None), (0, None), (0, None), (0, None),\n",
              "           (0, None), (0, None), (0, None), (0, None), (0, None)),\n",
              "     calibration='gradient_search',\n",
              "     sigma=array([0.34810787, 0.29480914, 0.59563091, 0.55144653, 0.19241952,\n",
              "       0.02703171, 0.20325832, 0.78992643, 0.68073025, 0.68093046,\n",
              "       0.46998804, 0.39658717, 0.42346203, 0.09324004, 0.17276813,\n",
              "       0.24851571, 0.17095734, 0.20640728, 0.41392028, 0.4       ,\n",
              "       0.4       , 0.21420016, 0.0209811 ]))"
            ],
            "text/html": [
              "<style>#sk-container-id-1 {color: black;background-color: white;}#sk-container-id-1 pre{padding: 0;}#sk-container-id-1 div.sk-toggleable {background-color: white;}#sk-container-id-1 label.sk-toggleable__label {cursor: pointer;display: block;width: 100%;margin-bottom: 0;padding: 0.3em;box-sizing: border-box;text-align: center;}#sk-container-id-1 label.sk-toggleable__label-arrow:before {content: \"▸\";float: left;margin-right: 0.25em;color: #696969;}#sk-container-id-1 label.sk-toggleable__label-arrow:hover:before {color: black;}#sk-container-id-1 div.sk-estimator:hover label.sk-toggleable__label-arrow:before {color: black;}#sk-container-id-1 div.sk-toggleable__content {max-height: 0;max-width: 0;overflow: hidden;text-align: left;background-color: #f0f8ff;}#sk-container-id-1 div.sk-toggleable__content pre {margin: 0.2em;color: black;border-radius: 0.25em;background-color: #f0f8ff;}#sk-container-id-1 input.sk-toggleable__control:checked~div.sk-toggleable__content {max-height: 200px;max-width: 100%;overflow: auto;}#sk-container-id-1 input.sk-toggleable__control:checked~label.sk-toggleable__label-arrow:before {content: \"▾\";}#sk-container-id-1 div.sk-estimator input.sk-toggleable__control:checked~label.sk-toggleable__label {background-color: #d4ebff;}#sk-container-id-1 div.sk-label input.sk-toggleable__control:checked~label.sk-toggleable__label {background-color: #d4ebff;}#sk-container-id-1 input.sk-hidden--visually {border: 0;clip: rect(1px 1px 1px 1px);clip: rect(1px, 1px, 1px, 1px);height: 1px;margin: -1px;overflow: hidden;padding: 0;position: absolute;width: 1px;}#sk-container-id-1 div.sk-estimator {font-family: monospace;background-color: #f0f8ff;border: 1px dotted black;border-radius: 0.25em;box-sizing: border-box;margin-bottom: 0.5em;}#sk-container-id-1 div.sk-estimator:hover {background-color: #d4ebff;}#sk-container-id-1 div.sk-parallel-item::after {content: \"\";width: 100%;border-bottom: 1px solid gray;flex-grow: 1;}#sk-container-id-1 div.sk-label:hover label.sk-toggleable__label {background-color: #d4ebff;}#sk-container-id-1 div.sk-serial::before {content: \"\";position: absolute;border-left: 1px solid gray;box-sizing: border-box;top: 0;bottom: 0;left: 50%;z-index: 0;}#sk-container-id-1 div.sk-serial {display: flex;flex-direction: column;align-items: center;background-color: white;padding-right: 0.2em;padding-left: 0.2em;position: relative;}#sk-container-id-1 div.sk-item {position: relative;z-index: 1;}#sk-container-id-1 div.sk-parallel {display: flex;align-items: stretch;justify-content: center;background-color: white;position: relative;}#sk-container-id-1 div.sk-item::before, #sk-container-id-1 div.sk-parallel-item::before {content: \"\";position: absolute;border-left: 1px solid gray;box-sizing: border-box;top: 0;bottom: 0;left: 50%;z-index: -1;}#sk-container-id-1 div.sk-parallel-item {display: flex;flex-direction: column;z-index: 1;position: relative;background-color: white;}#sk-container-id-1 div.sk-parallel-item:first-child::after {align-self: flex-end;width: 50%;}#sk-container-id-1 div.sk-parallel-item:last-child::after {align-self: flex-start;width: 50%;}#sk-container-id-1 div.sk-parallel-item:only-child::after {width: 0;}#sk-container-id-1 div.sk-dashed-wrapped {border: 1px dashed gray;margin: 0 0.4em 0.5em 0.4em;box-sizing: border-box;padding-bottom: 0.4em;background-color: white;}#sk-container-id-1 div.sk-label label {font-family: monospace;font-weight: bold;display: inline-block;line-height: 1.2em;}#sk-container-id-1 div.sk-label-container {text-align: center;}#sk-container-id-1 div.sk-container {/* jupyter's `normalize.less` sets `[hidden] { display: none; }` but bootstrap.min.css set `[hidden] { display: none !important; }` so we also need the `!important` here to be able to override the default hidden behavior on the sphinx rendered scikit-learn.org. See: https://github.com/scikit-learn/scikit-learn/issues/21755 */display: inline-block !important;position: relative;}#sk-container-id-1 div.sk-text-repr-fallback {display: none;}</style><div id=\"sk-container-id-1\" class=\"sk-top-container\"><div class=\"sk-text-repr-fallback\"><pre>GRNN(bnds=((0, None), (0, None), (0, None), (0, None), (0, None), (0, None),\n",
              "           (0, None), (0, None), (0, None), (0, None), (0, None), (0, None),\n",
              "           (0, None), (0, None), (0, None), (0, None), (0, None), (0, None),\n",
              "           (0, None), (0, None), (0, None), (0, None), (0, None)),\n",
              "     calibration=&#x27;gradient_search&#x27;,\n",
              "     sigma=array([0.34810787, 0.29480914, 0.59563091, 0.55144653, 0.19241952,\n",
              "       0.02703171, 0.20325832, 0.78992643, 0.68073025, 0.68093046,\n",
              "       0.46998804, 0.39658717, 0.42346203, 0.09324004, 0.17276813,\n",
              "       0.24851571, 0.17095734, 0.20640728, 0.41392028, 0.4       ,\n",
              "       0.4       , 0.21420016, 0.0209811 ]))</pre><b>In a Jupyter environment, please rerun this cell to show the HTML representation or trust the notebook. <br />On GitHub, the HTML representation is unable to render, please try loading this page with nbviewer.org.</b></div><div class=\"sk-container\" hidden><div class=\"sk-item\"><div class=\"sk-estimator sk-toggleable\"><input class=\"sk-toggleable__control sk-hidden--visually\" id=\"sk-estimator-id-1\" type=\"checkbox\" checked><label for=\"sk-estimator-id-1\" class=\"sk-toggleable__label sk-toggleable__label-arrow\">GRNN</label><div class=\"sk-toggleable__content\"><pre>GRNN(bnds=((0, None), (0, None), (0, None), (0, None), (0, None), (0, None),\n",
              "           (0, None), (0, None), (0, None), (0, None), (0, None), (0, None),\n",
              "           (0, None), (0, None), (0, None), (0, None), (0, None), (0, None),\n",
              "           (0, None), (0, None), (0, None), (0, None), (0, None)),\n",
              "     calibration=&#x27;gradient_search&#x27;,\n",
              "     sigma=array([0.34810787, 0.29480914, 0.59563091, 0.55144653, 0.19241952,\n",
              "       0.02703171, 0.20325832, 0.78992643, 0.68073025, 0.68093046,\n",
              "       0.46998804, 0.39658717, 0.42346203, 0.09324004, 0.17276813,\n",
              "       0.24851571, 0.17095734, 0.20640728, 0.41392028, 0.4       ,\n",
              "       0.4       , 0.21420016, 0.0209811 ]))</pre></div></div></div></div></div>"
            ]
          },
          "metadata": {},
          "execution_count": 35
        }
      ]
    },
    {
      "cell_type": "code",
      "source": [
        "sigma = AGRNN.sigma"
      ],
      "metadata": {
        "id": "3SW5iuCM_5Rd"
      },
      "execution_count": null,
      "outputs": []
    },
    {
      "cell_type": "code",
      "source": [
        "prediction = AGRNN.predict(val_X)"
      ],
      "metadata": {
        "id": "yixTtAW__7ez"
      },
      "execution_count": null,
      "outputs": []
    },
    {
      "cell_type": "code",
      "source": [
        "mse_AGRNN = MSE(val_y,predictions)\n",
        "mse_AGRNN"
      ],
      "metadata": {
        "id": "HYROI83r_9_O",
        "outputId": "eb704968-db2e-4aaf-e003-bc7015b72c61",
        "colab": {
          "base_uri": "https://localhost:8080/"
        }
      },
      "execution_count": null,
      "outputs": [
        {
          "output_type": "execute_result",
          "data": {
            "text/plain": [
              "0.18306337201282133"
            ]
          },
          "metadata": {},
          "execution_count": 38
        }
      ]
    },
    {
      "cell_type": "code",
      "source": [
        "print('\\nGRNN')\n",
        "print('Accuracy Score:',metrics.accuracy_score(val_y,prediction.round())*100,'%',sep='')\n",
        "print('Confusion Matrix:',metrics.confusion_matrix(val_y,prediction.round()),sep='\\n')\n",
        "print(classification_report(val_y,prediction.round()))"
      ],
      "metadata": {
        "id": "YQb3XTLlABgi",
        "outputId": "1865a349-ba8f-412c-de66-10fecd9b1a5a",
        "colab": {
          "base_uri": "https://localhost:8080/"
        }
      },
      "execution_count": null,
      "outputs": [
        {
          "output_type": "stream",
          "name": "stdout",
          "text": [
            "\n",
            "GRNN\n",
            "Accuracy Score:90.2439024390244%\n",
            "Confusion Matrix:\n",
            "[[17  3]\n",
            " [ 1 20]]\n",
            "              precision    recall  f1-score   support\n",
            "\n",
            "           0       0.94      0.85      0.89        20\n",
            "           1       0.87      0.95      0.91        21\n",
            "\n",
            "    accuracy                           0.90        41\n",
            "   macro avg       0.91      0.90      0.90        41\n",
            "weighted avg       0.91      0.90      0.90        41\n",
            "\n"
          ]
        }
      ]
    },
    {
      "cell_type": "code",
      "source": [
        "import tensorflow as tf\n",
        "from tensorflow.keras import datasets, layers, models"
      ],
      "metadata": {
        "id": "EmnpqAybAE5i"
      },
      "execution_count": null,
      "outputs": []
    },
    {
      "cell_type": "code",
      "source": [
        "ann = tf.keras.models.Sequential()"
      ],
      "metadata": {
        "id": "0Qog9FO1AHfA"
      },
      "execution_count": null,
      "outputs": []
    },
    {
      "cell_type": "code",
      "source": [
        "ann.add(tf.keras.layers.Dense(units=6,activation=\"relu\"))"
      ],
      "metadata": {
        "id": "M844AsJMAH7w"
      },
      "execution_count": null,
      "outputs": []
    },
    {
      "cell_type": "code",
      "source": [
        "ann.add(tf.keras.layers.Dense(units=6,activation=\"relu\"))"
      ],
      "metadata": {
        "id": "OKQ-YG9yAH-k"
      },
      "execution_count": null,
      "outputs": []
    },
    {
      "cell_type": "code",
      "source": [
        "ann.add(tf.keras.layers.Dense(units=1,activation=\"sigmoid\"))"
      ],
      "metadata": {
        "id": "kUkEUFBgAIB0"
      },
      "execution_count": null,
      "outputs": []
    },
    {
      "cell_type": "code",
      "source": [
        "ann.compile(optimizer=\"adam\",loss=\"binary_crossentropy\",metrics=['accuracy'])"
      ],
      "metadata": {
        "id": "zsD75cJnAID7"
      },
      "execution_count": null,
      "outputs": []
    },
    {
      "cell_type": "code",
      "source": [
        "ann.fit(train_X,train_y,batch_size=32,epochs = 75)"
      ],
      "metadata": {
        "id": "XhyWovbLAIGI",
        "outputId": "ae67c769-5aed-44eb-c8b9-a666532fa8f1",
        "colab": {
          "base_uri": "https://localhost:8080/"
        }
      },
      "execution_count": null,
      "outputs": [
        {
          "output_type": "stream",
          "name": "stdout",
          "text": [
            "Epoch 1/75\n",
            "6/6 [==============================] - 1s 3ms/step - loss: 0.7349 - accuracy: 0.5092\n",
            "Epoch 2/75\n",
            "6/6 [==============================] - 0s 3ms/step - loss: 0.7208 - accuracy: 0.5092\n",
            "Epoch 3/75\n",
            "6/6 [==============================] - 0s 3ms/step - loss: 0.7094 - accuracy: 0.5092\n",
            "Epoch 4/75\n",
            "6/6 [==============================] - 0s 4ms/step - loss: 0.7013 - accuracy: 0.5153\n",
            "Epoch 5/75\n",
            "6/6 [==============================] - 0s 3ms/step - loss: 0.6934 - accuracy: 0.5399\n",
            "Epoch 6/75\n",
            "6/6 [==============================] - 0s 3ms/step - loss: 0.6861 - accuracy: 0.5399\n",
            "Epoch 7/75\n",
            "6/6 [==============================] - 0s 3ms/step - loss: 0.6798 - accuracy: 0.5460\n",
            "Epoch 8/75\n",
            "6/6 [==============================] - 0s 4ms/step - loss: 0.6752 - accuracy: 0.5460\n",
            "Epoch 9/75\n",
            "6/6 [==============================] - 0s 3ms/step - loss: 0.6702 - accuracy: 0.5644\n",
            "Epoch 10/75\n",
            "6/6 [==============================] - 0s 3ms/step - loss: 0.6660 - accuracy: 0.5583\n",
            "Epoch 11/75\n",
            "6/6 [==============================] - 0s 3ms/step - loss: 0.6612 - accuracy: 0.5644\n",
            "Epoch 12/75\n",
            "6/6 [==============================] - 0s 3ms/step - loss: 0.6564 - accuracy: 0.5644\n",
            "Epoch 13/75\n",
            "6/6 [==============================] - 0s 4ms/step - loss: 0.6513 - accuracy: 0.5644\n",
            "Epoch 14/75\n",
            "6/6 [==============================] - 0s 3ms/step - loss: 0.6466 - accuracy: 0.5644\n",
            "Epoch 15/75\n",
            "6/6 [==============================] - 0s 3ms/step - loss: 0.6418 - accuracy: 0.5706\n",
            "Epoch 16/75\n",
            "6/6 [==============================] - 0s 4ms/step - loss: 0.6370 - accuracy: 0.5767\n",
            "Epoch 17/75\n",
            "6/6 [==============================] - 0s 4ms/step - loss: 0.6325 - accuracy: 0.5890\n",
            "Epoch 18/75\n",
            "6/6 [==============================] - 0s 4ms/step - loss: 0.6279 - accuracy: 0.6012\n",
            "Epoch 19/75\n",
            "6/6 [==============================] - 0s 3ms/step - loss: 0.6239 - accuracy: 0.6074\n",
            "Epoch 20/75\n",
            "6/6 [==============================] - 0s 3ms/step - loss: 0.6197 - accuracy: 0.6196\n",
            "Epoch 21/75\n",
            "6/6 [==============================] - 0s 4ms/step - loss: 0.6162 - accuracy: 0.6564\n",
            "Epoch 22/75\n",
            "6/6 [==============================] - 0s 4ms/step - loss: 0.6121 - accuracy: 0.6626\n",
            "Epoch 23/75\n",
            "6/6 [==============================] - 0s 4ms/step - loss: 0.6091 - accuracy: 0.6687\n",
            "Epoch 24/75\n",
            "6/6 [==============================] - 0s 3ms/step - loss: 0.6053 - accuracy: 0.6748\n",
            "Epoch 25/75\n",
            "6/6 [==============================] - 0s 3ms/step - loss: 0.6012 - accuracy: 0.6626\n",
            "Epoch 26/75\n",
            "6/6 [==============================] - 0s 4ms/step - loss: 0.5973 - accuracy: 0.6994\n",
            "Epoch 27/75\n",
            "6/6 [==============================] - 0s 3ms/step - loss: 0.5932 - accuracy: 0.7055\n",
            "Epoch 28/75\n",
            "6/6 [==============================] - 0s 3ms/step - loss: 0.5893 - accuracy: 0.7117\n",
            "Epoch 29/75\n",
            "6/6 [==============================] - 0s 4ms/step - loss: 0.5846 - accuracy: 0.7178\n",
            "Epoch 30/75\n",
            "6/6 [==============================] - 0s 4ms/step - loss: 0.5800 - accuracy: 0.7178\n",
            "Epoch 31/75\n",
            "6/6 [==============================] - 0s 4ms/step - loss: 0.5751 - accuracy: 0.7301\n",
            "Epoch 32/75\n",
            "6/6 [==============================] - 0s 3ms/step - loss: 0.5709 - accuracy: 0.7362\n",
            "Epoch 33/75\n",
            "6/6 [==============================] - 0s 3ms/step - loss: 0.5663 - accuracy: 0.7423\n",
            "Epoch 34/75\n",
            "6/6 [==============================] - 0s 3ms/step - loss: 0.5621 - accuracy: 0.7485\n",
            "Epoch 35/75\n",
            "6/6 [==============================] - 0s 4ms/step - loss: 0.5578 - accuracy: 0.7423\n",
            "Epoch 36/75\n",
            "6/6 [==============================] - 0s 4ms/step - loss: 0.5536 - accuracy: 0.7485\n",
            "Epoch 37/75\n",
            "6/6 [==============================] - 0s 3ms/step - loss: 0.5497 - accuracy: 0.7485\n",
            "Epoch 38/75\n",
            "6/6 [==============================] - 0s 3ms/step - loss: 0.5453 - accuracy: 0.7485\n",
            "Epoch 39/75\n",
            "6/6 [==============================] - 0s 3ms/step - loss: 0.5410 - accuracy: 0.7423\n",
            "Epoch 40/75\n",
            "6/6 [==============================] - 0s 4ms/step - loss: 0.5369 - accuracy: 0.7546\n",
            "Epoch 41/75\n",
            "6/6 [==============================] - 0s 4ms/step - loss: 0.5326 - accuracy: 0.7546\n",
            "Epoch 42/75\n",
            "6/6 [==============================] - 0s 3ms/step - loss: 0.5282 - accuracy: 0.7546\n",
            "Epoch 43/75\n",
            "6/6 [==============================] - 0s 3ms/step - loss: 0.5233 - accuracy: 0.7546\n",
            "Epoch 44/75\n",
            "6/6 [==============================] - 0s 3ms/step - loss: 0.5190 - accuracy: 0.7730\n",
            "Epoch 45/75\n",
            "6/6 [==============================] - 0s 3ms/step - loss: 0.5144 - accuracy: 0.7730\n",
            "Epoch 46/75\n",
            "6/6 [==============================] - 0s 4ms/step - loss: 0.5103 - accuracy: 0.7730\n",
            "Epoch 47/75\n",
            "6/6 [==============================] - 0s 3ms/step - loss: 0.5063 - accuracy: 0.7791\n",
            "Epoch 48/75\n",
            "6/6 [==============================] - 0s 3ms/step - loss: 0.5024 - accuracy: 0.7791\n",
            "Epoch 49/75\n",
            "6/6 [==============================] - 0s 4ms/step - loss: 0.4985 - accuracy: 0.7791\n",
            "Epoch 50/75\n",
            "6/6 [==============================] - 0s 4ms/step - loss: 0.4943 - accuracy: 0.7791\n",
            "Epoch 51/75\n",
            "6/6 [==============================] - 0s 4ms/step - loss: 0.4902 - accuracy: 0.7853\n",
            "Epoch 52/75\n",
            "6/6 [==============================] - 0s 4ms/step - loss: 0.4861 - accuracy: 0.7975\n",
            "Epoch 53/75\n",
            "6/6 [==============================] - 0s 5ms/step - loss: 0.4814 - accuracy: 0.7975\n",
            "Epoch 54/75\n",
            "6/6 [==============================] - 0s 4ms/step - loss: 0.4772 - accuracy: 0.7975\n",
            "Epoch 55/75\n",
            "6/6 [==============================] - 0s 3ms/step - loss: 0.4725 - accuracy: 0.8037\n",
            "Epoch 56/75\n",
            "6/6 [==============================] - 0s 4ms/step - loss: 0.4680 - accuracy: 0.8221\n",
            "Epoch 57/75\n",
            "6/6 [==============================] - 0s 4ms/step - loss: 0.4633 - accuracy: 0.8221\n",
            "Epoch 58/75\n",
            "6/6 [==============================] - 0s 3ms/step - loss: 0.4586 - accuracy: 0.8282\n",
            "Epoch 59/75\n",
            "6/6 [==============================] - 0s 3ms/step - loss: 0.4543 - accuracy: 0.8344\n",
            "Epoch 60/75\n",
            "6/6 [==============================] - 0s 4ms/step - loss: 0.4496 - accuracy: 0.8405\n",
            "Epoch 61/75\n",
            "6/6 [==============================] - 0s 3ms/step - loss: 0.4448 - accuracy: 0.8528\n",
            "Epoch 62/75\n",
            "6/6 [==============================] - 0s 3ms/step - loss: 0.4399 - accuracy: 0.8528\n",
            "Epoch 63/75\n",
            "6/6 [==============================] - 0s 4ms/step - loss: 0.4347 - accuracy: 0.8528\n",
            "Epoch 64/75\n",
            "6/6 [==============================] - 0s 3ms/step - loss: 0.4299 - accuracy: 0.8528\n",
            "Epoch 65/75\n",
            "6/6 [==============================] - 0s 4ms/step - loss: 0.4248 - accuracy: 0.8589\n",
            "Epoch 66/75\n",
            "6/6 [==============================] - 0s 3ms/step - loss: 0.4196 - accuracy: 0.8712\n",
            "Epoch 67/75\n",
            "6/6 [==============================] - 0s 4ms/step - loss: 0.4140 - accuracy: 0.8712\n",
            "Epoch 68/75\n",
            "6/6 [==============================] - 0s 4ms/step - loss: 0.4086 - accuracy: 0.8773\n",
            "Epoch 69/75\n",
            "6/6 [==============================] - 0s 3ms/step - loss: 0.4034 - accuracy: 0.8773\n",
            "Epoch 70/75\n",
            "6/6 [==============================] - 0s 3ms/step - loss: 0.3984 - accuracy: 0.8834\n",
            "Epoch 71/75\n",
            "6/6 [==============================] - 0s 3ms/step - loss: 0.3934 - accuracy: 0.8834\n",
            "Epoch 72/75\n",
            "6/6 [==============================] - 0s 3ms/step - loss: 0.3882 - accuracy: 0.8834\n",
            "Epoch 73/75\n",
            "6/6 [==============================] - 0s 3ms/step - loss: 0.3832 - accuracy: 0.8834\n",
            "Epoch 74/75\n",
            "6/6 [==============================] - 0s 3ms/step - loss: 0.3781 - accuracy: 0.8834\n",
            "Epoch 75/75\n",
            "6/6 [==============================] - 0s 4ms/step - loss: 0.3731 - accuracy: 0.8834\n"
          ]
        },
        {
          "output_type": "execute_result",
          "data": {
            "text/plain": [
              "<keras.callbacks.History at 0x7f6715236430>"
            ]
          },
          "metadata": {},
          "execution_count": 46
        }
      ]
    },
    {
      "cell_type": "code",
      "source": [
        "predict = ann.predict(val_X)"
      ],
      "metadata": {
        "id": "bptleIh3AIJj",
        "outputId": "6cfefb32-d4da-4b2a-a147-baa1aed0846e",
        "colab": {
          "base_uri": "https://localhost:8080/"
        }
      },
      "execution_count": null,
      "outputs": [
        {
          "output_type": "stream",
          "name": "stdout",
          "text": [
            "2/2 [==============================] - 0s 5ms/step\n"
          ]
        }
      ]
    },
    {
      "cell_type": "code",
      "source": [
        "mse_ann = MSE(val_y,predict)\n",
        "mse_ann"
      ],
      "metadata": {
        "id": "-rRpXqccAgNX",
        "outputId": "e0202131-0b54-4a3e-cce7-086a6d3eee64",
        "colab": {
          "base_uri": "https://localhost:8080/"
        }
      },
      "execution_count": null,
      "outputs": [
        {
          "output_type": "execute_result",
          "data": {
            "text/plain": [
              "0.11670248197509701"
            ]
          },
          "metadata": {},
          "execution_count": 48
        }
      ]
    },
    {
      "cell_type": "code",
      "source": [
        "print('\\nANN')\n",
        "print('Accuracy Score:',metrics.accuracy_score(val_y,predict.round())*100,'%',sep='')\n",
        "print('Confusion Matrix:',metrics.confusion_matrix(val_y,predict.round()),sep='\\n')\n",
        "print(classification_report(val_y,predict.round()))"
      ],
      "metadata": {
        "id": "5RRROA8oAjFm",
        "outputId": "4c1d0ee2-acff-42af-9518-04b5b2bbf464",
        "colab": {
          "base_uri": "https://localhost:8080/"
        }
      },
      "execution_count": null,
      "outputs": [
        {
          "output_type": "stream",
          "name": "stdout",
          "text": [
            "\n",
            "ANN\n",
            "Accuracy Score:90.2439024390244%\n",
            "Confusion Matrix:\n",
            "[[20  0]\n",
            " [ 4 17]]\n",
            "              precision    recall  f1-score   support\n",
            "\n",
            "           0       0.83      1.00      0.91        20\n",
            "           1       1.00      0.81      0.89        21\n",
            "\n",
            "    accuracy                           0.90        41\n",
            "   macro avg       0.92      0.90      0.90        41\n",
            "weighted avg       0.92      0.90      0.90        41\n",
            "\n"
          ]
        }
      ]
    }
  ],
  "metadata": {
    "colab": {
      "provenance": [],
      "include_colab_link": true
    },
    "kernelspec": {
      "display_name": "Python 3",
      "name": "python3"
    }
  },
  "nbformat": 4,
  "nbformat_minor": 0
}